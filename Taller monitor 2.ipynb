{
 "cells": [
  {
   "cell_type": "code",
   "execution_count": 3,
   "metadata": {},
   "outputs": [],
   "source": [
    "#importar librerias\n",
    "import cv2\n",
    "import numpy as np"
   ]
  },
  {
   "cell_type": "code",
   "execution_count": 5,
   "metadata": {},
   "outputs": [
    {
     "name": "stdout",
     "output_type": "stream",
     "text": [
      "conteo de celulas: 29\n"
     ]
    }
   ],
   "source": [
    "\n",
    "\n",
    "def leer_imagen(img): #leer imagenes\n",
    "    img = cv2.imread(img, cv2.IMREAD_COLOR)\n",
    "    cv2.imshow('Imagen Original', img)\n",
    "    cv2.waitKey(0)  # Esperar a que se presione una tecla y cerrar la ventana\n",
    "    cv2.destroyAllWindows()\n",
    "    return img\n",
    "\n",
    "def convertir_a_grises(img):\n",
    "    gris = cv2.cvtColor(img, cv2.COLOR_BGR2GRAY) # Convertir la imagen a escala de grises\n",
    "    cv2.imshow('Imagen en Grises', gris)\n",
    "    cv2.waitKey(0)\n",
    "    cv2.destroyAllWindows()\n",
    "    return gris\n",
    "\n",
    "def filtro_gaussiano(gris_img): # Mostrar la imagen filtrada\n",
    "    img_filtrada = cv2.GaussianBlur(gris_img, (5, 5), 0) # Aplicar un filtro Gaussiano para reducir ruido\n",
    "    cv2.imshow('Imagen Filtrada', img_filtrada)\n",
    "    cv2.waitKey(0)\n",
    "    cv2.destroyAllWindows()\n",
    "    return img_filtrada\n",
    "\n",
    "def aplicar_umbralizacion(gris_img): #Aplicar umbralización para binarizar la imagen\n",
    "    mid = np.mean(gris_img)\n",
    "    _, umbral = cv2.threshold(gris_img, mid, 255, cv2.THRESH_BINARY)\n",
    "    return umbral\n",
    "\n",
    "def aplicar_transformaciones_morfologicas(umbral_img): #Aplicar transformaciones morfológicas (erosión, dilatación) para eliminar ruido y mejorar la detección\n",
    "    kernel = cv2.getStructuringElement(cv2.MORPH_ELLIPSE, (40, 40))\n",
    "    erosion = cv2.erode(umbral_img, kernel, iterations=1)\n",
    "    dilatacion = cv2.dilate(erosion, kernel, iterations=1)\n",
    "    return dilatacion\n",
    "\n",
    "def encontrar_contornos(img): #Mostrar la imagen con los contornos\n",
    "    contornos, _ = cv2.findContours(img, cv2.RETR_EXTERNAL, cv2.CHAIN_APPROX_SIMPLE)  #Encontrar contornos en la imagen\n",
    "    cv2.drawContours(img, contornos, -1, (0, 255, 0), 2)  #Dibujar los contornos en la imagen original (opcional)\n",
    "    cv2.imshow('Imagen con contornos', img)\n",
    "    cv2.waitKey(0)\n",
    "    cv2.destroyAllWindows()\n",
    "    return contornos\n",
    "\n",
    "def contar_celulas(contornos): #Contar el número de células encontradas\n",
    "    num_celulas = len(contornos)\n",
    "    return num_celulas\n",
    "\n",
    "# Función principal\n",
    "def inicializar(img):\n",
    "    img = leer_imagen(img)\n",
    "    gris = convertir_a_grises(img)\n",
    "    img_filtrada = filtro_gaussiano(gris)\n",
    "    umbral = aplicar_umbralizacion(gris)\n",
    "    img_transformada = aplicar_transformaciones_morfologicas(umbral)\n",
    "    contornos = encontrar_contornos(img_transformada)\n",
    "    num_celulas = contar_celulas(contornos)\n",
    "    print('conteo de celulas:', num_celulas)\n",
    "\n",
    "# Llamada a la función principal\n",
    "imagen = r\"C:\\Users\\lucia\\Downloads\\celula.jpg\"\n",
    "inicializar(imagen)"
   ]
  }
 ],
 "metadata": {
  "kernelspec": {
   "display_name": "base",
   "language": "python",
   "name": "python3"
  },
  "language_info": {
   "codemirror_mode": {
    "name": "ipython",
    "version": 3
   },
   "file_extension": ".py",
   "mimetype": "text/x-python",
   "name": "python",
   "nbconvert_exporter": "python",
   "pygments_lexer": "ipython3",
   "version": "3.12.3"
  }
 },
 "nbformat": 4,
 "nbformat_minor": 2
}
