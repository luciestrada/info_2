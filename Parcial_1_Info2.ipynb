{
 "cells": [
  {
   "cell_type": "markdown",
   "metadata": {},
   "source": [
    "\n",
    "<p align=\"center\"><img alt=\"udeA logo\" height=\"150px\" src=\"https://github.com/freddyduitama/images/blob/master/logo.png?raw=true\"></p><h1><font color='0B5345'> <center>\n",
    "\n",
    "Informática II\n",
    "\n",
    " </center></font></h1>\n",
    "<h2><font color='0B5345'> <center>\n",
    "Parcial I: Programación orientada a objetos</center></font></h2>\n",
    "<font  face=\"Courier New\" size=\"3\">\n",
    "\n",
    "<p3><center><b><font color='0B5345' face=\"Lucida Calligraphy,Comic Sans MS,Lucida Console\" size=\"5\">Universidad de Antioquia - Bioingeniería</font></b> </center></p3>\n",
    "\n"
   ]
  },
  {
   "cell_type": "markdown",
   "metadata": {},
   "source": [
    "\n",
    "Nombre estudiante 1: Luciana Acevedo Cadavid\n",
    "\n",
    "Cédula estudiante 1:1017923340\n",
    "\n",
    "Nombre estudiante 2: Luciana Estrada García\n",
    "\n",
    "Cédula estudiante 2:1011510628\n",
    "\n"
   ]
  },
  {
   "cell_type": "markdown",
   "metadata": {},
   "source": [
    "Antes de iniciar leer cuidadosamente cada enunciado antes de responder y asegurarse de comprender completamente lo que se está solicitando. Además, preste atención a las instrucciones y seleccione la opción que consideres correcta en las preguntas de selección múltiple.\n",
    "\n",
    "¡Buena suerte!"
   ]
  },
  {
   "cell_type": "markdown",
   "metadata": {},
   "source": [
    "1. Describe qué es la encapsulación en programación orientada a objetos y por qué es importante en el desarrollo de software. (10%)"
   ]
  },
  {
   "cell_type": "markdown",
   "metadata": {},
   "source": [
    "    Respuesta ...= La encapsulación es la función que permite poner los atributos y los métodos de una manera que no se pueda manipular por un externo si no es deseada, es decir, pornerlos privado, protegido, o dejarlos abiertos al público, y es importante porque nos permite cumplir normas de privacidad, y seguridad para los usuarios y en si para todo el sistema operativo."
   ]
  },
  {
   "cell_type": "markdown",
   "metadata": {},
   "source": [
    "2. ¿Qué palabra clave se utiliza en Python para definir una clase? (5%)\n",
    "\n",
    "    a) class\n",
    "\n",
    "    b) def\n",
    "\n",
    "    c) void\n",
    "    \n",
    "    d) function"
   ]
  },
  {
   "cell_type": "markdown",
   "metadata": {},
   "source": [
    "    Respuesta ... = a) class"
   ]
  },
  {
   "cell_type": "markdown",
   "metadata": {},
   "source": [
    "3. Define qué es la herencia en POO y proporciona un ejemplo en Python que demuestre su uso. (Implementar código) (20%). \n",
    "\n",
    "    **Nota:** El ejemplo propuesto debe tener atributos de instancia y al menos un método funcional. (**No se pueden usar ejemplos de clase**)"
   ]
  },
  {
   "cell_type": "markdown",
   "metadata": {},
   "source": [
    "Herencia= La herencia es una relación que nos permite definir múltiples subclases a partir de una clase padre, y nos permite reutilizar código. "
   ]
  },
  {
   "cell_type": "code",
   "execution_count": 2,
   "metadata": {},
   "outputs": [],
   "source": [
    "# Inserta tu código en esta celda\n",
    "\n",
    "#guarderia de mascotas\n",
    "class Mascotas:\n",
    "    def __init__(self,nombre,edad,tipo):\n",
    "        self.nombre=nombre\n",
    "        self.edad=edad\n",
    "        self.tipo=tipo\n",
    "        self.mascotastotal=[]\n",
    "    \n",
    "    def agregarmascota():\n",
    "        if Mascotas in self.mascotastotal:\n",
    "            print(\"Ya está registrada\")\n",
    "        else:\n",
    "            self.Mascotas.append(self.mascotastotal)\n",
    "            print(\"Se agregó con éxito\")\n",
    "    \n",
    "class Perro(Mascotas):\n",
    "    def __init__(self,nombre,edad,tipo,raza,juguete):\n",
    "        super().__init__(self,nombre,edad,tipo)\n",
    "        self.raza=raza\n",
    "        self.juguete=juguete\n",
    "\n",
    "\n",
    "class Pez(Mascotas):\n",
    "    def __init__(self,nombre,edad,tipo,comida):\n",
    "        super().__init__(self,nombre,edad,tipo)\n",
    "        self.comida=comida\n",
    "    \n",
    "\n",
    "\n",
    "\n",
    "\n"
   ]
  },
  {
   "cell_type": "markdown",
   "metadata": {},
   "source": [
    "4. ¿Cuál es el propósito principal del método constructor  _ _init__() en Python? (5%)\n",
    "\n",
    "    a) Definir los atributos de clase.\n",
    "    \n",
    "    b) Inicializar los atributos de instancia.\n",
    "    \n",
    "    c) Definir métodos de clase.\n",
    "    \n",
    "    d) Crear instancias de la clase."
   ]
  },
  {
   "cell_type": "markdown",
   "metadata": {},
   "source": [
    "    Respuesta ... b)Inicializar los atributos de instancia\n",
    "    "
   ]
  },
  {
   "cell_type": "markdown",
   "metadata": {},
   "source": [
    "5. Del siguiente código indique donde se evidencian relaciones entre clases (dependencia, asociación o herencia) (10%) \n",
    "\n",
    "    **Nota:** Puede comentar en el código donde están las relaciones."
   ]
  },
  {
   "cell_type": "code",
   "execution_count": null,
   "metadata": {},
   "outputs": [],
   "source": [
    "class lectorArchivos:\n",
    "    def crearArchivo(self, nombre_archivo, contenido):\n",
    "        try:\n",
    "            with open(nombre_archivo, 'w') as file:\n",
    "                file.write(contenido)\n",
    "            print(f\"Archivo '{nombre_archivo}' creado exitosamente.\")\n",
    "        except Exception as e:\n",
    "            print(f\"No se pudo crear el archivo '{nombre_archivo}': {e}\")\n",
    "\n",
    "    def leerArchivo(self, nombre_archivo):#ASOCIACIÓN\n",
    "        try:\n",
    "            with open(nombre_archivo, 'r') as file:\n",
    "                contenido = file.read()\n",
    "                return contenido\n",
    "        except FileNotFoundError:\n",
    "            print(f\"El archivo '{nombre_archivo}' no existe.\")\n",
    "            return None\n",
    "\n",
    "class procesarDatos:#Clase padre\n",
    "    def procesarTexto(self, texto):\n",
    "        if texto:\n",
    "            return texto.upper()\n",
    "        else:\n",
    "            return \"No se pudo procesar el texto.\"\n",
    "\n",
    "class analizarDatos(procesarDatos):#HERENCIA\n",
    "    def analizar(self, nombre_archivo):\n",
    "        lector = lectorArchivos()\n",
    "        texto = lector.leerArchivo(nombre_archivo)#DEPENDENCIA\n",
    "        if texto:\n",
    "            resultado = self.procesarTexto(texto)#se llamó metodo de la clase padre\n",
    "            print(\"Análisis completado:\")\n",
    "            print(resultado)\n",
    "        else:\n",
    "            print(\"No hay datos para analizar.\")\n",
    "\n",
    "# Ejemplo de uso\n",
    "nombre_archivo = \"datos.txt\"\n",
    "contenido = \"Este es un ejemplo de texto para el archivo.\"\n",
    "\n",
    "# Crear el archivo\n",
    "lector = lectorArchivos()\n",
    "lector.crearArchivo(nombre_archivo, contenido)\n",
    "\n",
    "# Analizar el archivo\n",
    "analizador = analizarDatos()\n",
    "analizador.analizar(nombre_archivo)"
   ]
  },
  {
   "cell_type": "markdown",
   "metadata": {},
   "source": [
    "6. A partir del siguiente programa basado en programación orientada a objetos responda las siguientes preguntas:"
   ]
  },
  {
   "cell_type": "code",
   "execution_count": null,
   "metadata": {},
   "outputs": [],
   "source": [
    "class cuentaBancaria:\n",
    "    def __init__(self, titular, saldo_inicial=0):\n",
    "        self._titular = titular  \n",
    "        self.__saldo = saldo_inicial  \n",
    "\n",
    "    def depositar(self, cantidad):\n",
    "        if cantidad > 0:\n",
    "            self.__saldo += cantidad\n",
    "            print(f\"Se han depositado {cantidad} en la cuenta de {self._titular}. Nuevo saldo: {self.__saldo}\")\n",
    "        else:\n",
    "            print(\"La cantidad a depositar debe ser mayor que 0.\")\n",
    "\n",
    "    def retirar(self, cantidad):\n",
    "        if 0 < cantidad <= self.__saldo:\n",
    "            self.__saldo -= cantidad\n",
    "            print(f\"Se han retirado {cantidad} de la cuenta de {self._titular}. Nuevo saldo: {self.__saldo}\")\n",
    "        else:\n",
    "            print(\"No se puede retirar la cantidad especificada. Verifique su saldo.\")\n",
    "\n",
    "    def consultarSaldo(self):\n",
    "        print(f\"El saldo actual de la cuenta de {self._titular} es: {self.__saldo}\")\n",
    "\n",
    "\n",
    "# Ejemplo de uso\n",
    "cuenta = cuentaBancaria(\"Juan\", 1000)\n",
    "cuenta.consultarSaldo()\n",
    "cuenta.depositar(500)\n",
    "cuenta.retirar(200)\n"
   ]
  },
  {
   "cell_type": "markdown",
   "metadata": {},
   "source": [
    "6.1 ¿Qué significa que el atributo _titular esté marcado como protegido en la clase CuentaBancaria? (5%)\n",
    "\n",
    "a) Solo los métodos dentro de la clase pueden acceder y modificar el atributo _titular.\n",
    "    \n",
    "b) El atributo _titular se puede acceder y modificar desde fuera de la clase, pero se considera una convención que indica que no debe ser modificado directamente por usuarios de la clase.\n",
    "    \n",
    "c) El atributo _titular no se puede acceder directamente desde fuera de la clase.\n",
    "    \n",
    "d) El atributo _titular solo se puede acceder desde fuera de la clase."
   ]
  },
  {
   "cell_type": "markdown",
   "metadata": {},
   "source": [
    "    Respuesta ... c)\n",
    "    "
   ]
  },
  {
   "cell_type": "markdown",
   "metadata": {},
   "source": [
    "6.2 ¿Qué significa que el atributo __saldo esté marcado como privado en la clase CuentaBancaria? (5%)\n",
    "\n",
    "a) El atributo __saldo se puede acceder directamente desde fuera de la clase.\n",
    "\n",
    "b) Solo los métodos dentro de la clase pueden acceder y modificar el atributo __saldo.\n",
    "\n",
    "c) El atributo __saldo se puede acceder y modificar desde cualquier parte del código.\n",
    "\n",
    "d) El atributo __saldo es visible y modificable desde fuera de la clase."
   ]
  },
  {
   "cell_type": "markdown",
   "metadata": {},
   "source": [
    "    Respuesta ... b)"
   ]
  },
  {
   "cell_type": "markdown",
   "metadata": {},
   "source": [
    "6.3 ¿Qué importancia tiene el encapsulamiento en el contexto de la clase CuentaBancaria? (5%)\n",
    "\n",
    "a) Protege los datos sensibles dentro de la clase y permite acceder a ellos desde fuera de la clase.\n",
    "\n",
    "b) Protege los datos sensibles dentro de la clase y restringe el acceso desde fuera de la clase.\n",
    "\n",
    "c) Permite que cualquier método acceda y modifique los datos de la clase.\n",
    "\n",
    "d) No tiene ningún impacto en el acceso a los datos de la clase."
   ]
  },
  {
   "cell_type": "markdown",
   "metadata": {},
   "source": [
    "    Respuesta ... b)"
   ]
  },
  {
   "cell_type": "markdown",
   "metadata": {},
   "source": [
    "6.4 Que tipos de métodos y atributos contiene la clase cuentaBancaria? (5%)"
   ]
  },
  {
   "cell_type": "markdown",
   "metadata": {},
   "source": [
    "    Respuesta ... metodos de instancia (consultar, depositar y depositar saldo), y atributos de clase(saldo inicial), atributos de instancia(titular, cantidad)"
   ]
  },
  {
   "cell_type": "markdown",
   "metadata": {},
   "source": [
    "7. Cree una clase llamada Calculadora que simule una calculadora básica, debe hacer una prueba de escritorio para cada método y realizar el diagrama de clase. (30%) \n",
    "\n",
    "La clase Calculadora debe tener los siguientes métodos:\n",
    "\n",
    "**Suma:** Este método debe tomar dos números como argumentos y devolver la suma de esos números. \n",
    "\n",
    "**Resta:** Este método debe tomar dos números como argumentos y devolver la resta del segundo número al primero. \n",
    "\n",
    "**Multiplicación:** Este método debe tomar dos números como argumentos y devolver el producto de esos números. \n",
    "\n",
    "**División:** Este método debe tomar dos números como argumentos y devolver el resultado de dividir el primero por el segundo. Si el segundo número es 0, debes imprimir un mensaje indicando que la división por cero no está permitida. \n",
    "\n",
    "**Nota:** Antes de realizar cualquier operación, valide que ambos argumentos sean números. Si alguno de los argumentos no es un número, debe imprimir un mensaje indicando que solo se permiten números y no realizar la operación.\n",
    "\n",
    "Además, la clase Calculadora no debe tener ningún atributo de instancia."
   ]
  },
  {
   "cell_type": "markdown",
   "metadata": {},
   "source": [
    "**Éxitos y recuerden que la entrega del parcial se realiza subiendo este notebook al repositorio de github de alguno de los integrantes del grupo.**"
   ]
  },
  {
   "cell_type": "markdown",
   "metadata": {},
   "source": []
  },
  {
   "cell_type": "code",
   "execution_count": 22,
   "metadata": {},
   "outputs": [
    {
     "name": "stdout",
     "output_type": "stream",
     "text": [
      "268\n",
      "Error: solo se pueden numeros\n",
      "None\n",
      "-200\n",
      "24\n",
      "0.2\n"
     ]
    }
   ],
   "source": [
    "class Calculadora:\n",
    "    def suma(a, b): #Dos argumentos, entregan dos. y en la prueba tambien se pone (2,3)\n",
    "        if type (a) in [int, float] and type (b) in [int, float]: #Validación de tipo si es número o flotante\n",
    "            return a+b\n",
    "        else:\n",
    "            print(\"Error: solo se pueden numeros\")\n",
    "\n",
    "    def resta(a, b):\n",
    "        if type (a) in [int, float] and type (b) in [int, float]:\n",
    "            return b-a\n",
    "        else:\n",
    "            print(\"Error: solo se pueden numeros\")\n",
    "\n",
    "    def multiplicacion (a, b):\n",
    "        if type (a) in [int, float] and type (b) in [int, float]:\n",
    "            return a*b\n",
    "        else:\n",
    "            print(\"Error: solo se pueden numeros\")\n",
    "\n",
    "    def division (a, b):\n",
    "        if type (a) in [int, float] and type (b) in [int, float]:\n",
    "            if b != 0: # validación si es 0\n",
    "                return a/b\n",
    "            else:\n",
    "                print(\"No se puede dividir por cero.\")\n",
    "        else:\n",
    "            print(\"Error: solo se pueden numeros\")\n",
    "\n",
    "  #Probar\n",
    "print(Calculadora.suma(234,34))\n",
    "print(Calculadora.resta(\"hola\",34)) #ensayo si da la validacion con letras\n",
    "print(Calculadora.resta(234,34))\n",
    "print(Calculadora.multiplicacion(12,2))\n",
    "print(Calculadora.division(5,25))\n",
    "\n"
   ]
  },
  {
   "cell_type": "code",
   "execution_count": null,
   "metadata": {},
   "outputs": [],
   "source": [
    "print(Calculadora.suma(234,34))\n",
    "print(Calculadora.resta(\"hola\",34)) #ensayo si da la validacion con letras\n",
    "print(Calculadora.resta(234,34))\n",
    "print(Calculadora.multiplicacion(12,2))\n",
    "print(Calculadora.division(5,25))"
   ]
  }
 ],
 "metadata": {
  "kernelspec": {
   "display_name": "Python 3",
   "language": "python",
   "name": "python3"
  },
  "language_info": {
   "codemirror_mode": {
    "name": "ipython",
    "version": 3
   },
   "file_extension": ".py",
   "mimetype": "text/x-python",
   "name": "python",
   "nbconvert_exporter": "python",
   "pygments_lexer": "ipython3",
   "version": "3.11.3"
  },
  "orig_nbformat": 4
 },
 "nbformat": 4,
 "nbformat_minor": 2
}
